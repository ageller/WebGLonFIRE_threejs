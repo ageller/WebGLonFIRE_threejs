{
 "cells": [
  {
   "cell_type": "markdown",
   "metadata": {},
   "source": [
    "# Test particle sizes in Firefly\n",
    "\n",
    "Trying to get the particle sizes to be accurately related to the distance between particles\n"
   ]
  },
  {
   "cell_type": "code",
   "execution_count": 1,
   "metadata": {},
   "outputs": [],
   "source": [
    "%load_ext autoreload\n",
    "%autoreload 2\n",
    "\n",
    "from simpleReader import simpleReader\n",
    "import numpy as np\n",
    "import pandas as pd\n",
    "\n",
    "import sys\n",
    "import json\n",
    "import requests\n",
    "from IPython.display import IFrame"
   ]
  },
  {
   "cell_type": "markdown",
   "metadata": {},
   "source": [
    "## Start the server"
   ]
  },
  {
   "cell_type": "code",
   "execution_count": 2,
   "metadata": {},
   "outputs": [],
   "source": [
    "%%bash --bg --proc bg_proc\n",
    "python /Users/ageller/Visualizations/Firefly/FireflyFlaskApp.py"
   ]
  },
  {
   "cell_type": "markdown",
   "metadata": {},
   "source": [
    "## Show Firefly in an IFrame"
   ]
  },
  {
   "cell_type": "code",
   "execution_count": 3,
   "metadata": {},
   "outputs": [
    {
     "data": {
      "text/html": [
       "\n",
       "        <iframe\n",
       "            width=\"800\"\n",
       "            height=\"500\"\n",
       "            src=\"http://localhost:5000/combined\"\n",
       "            frameborder=\"0\"\n",
       "            allowfullscreen\n",
       "        ></iframe>\n",
       "        "
      ],
      "text/plain": [
       "<IPython.lib.display.IFrame at 0x1a1918d5c0>"
      ]
     },
     "execution_count": 3,
     "metadata": {},
     "output_type": "execute_result"
    }
   ],
   "source": [
    "url = \"http://localhost:5000/combined\"\n",
    "IFrame(url, width=800, height=500)"
   ]
  },
  {
   "cell_type": "markdown",
   "metadata": {},
   "source": [
    "### Create some data, and get the Firefly dict"
   ]
  },
  {
   "cell_type": "code",
   "execution_count": 6,
   "metadata": {},
   "outputs": [
    {
     "name": "stdout",
     "output_type": "stream",
     "text": [
      "(100, 3)\n",
      "{'parts': {'part1': {'Coordinates': array([[-4.5, -4.5,  0. ],\n",
      "       [-3.5, -4.5,  0. ],\n",
      "       [-2.5, -4.5,  0. ],\n",
      "       [-1.5, -4.5,  0. ],\n",
      "       [-0.5, -4.5,  0. ],\n",
      "       [ 0.5, -4.5,  0. ],\n",
      "       [ 1.5, -4.5,  0. ],\n",
      "       [ 2.5, -4.5,  0. ],\n",
      "       [ 3.5, -4.5,  0. ],\n",
      "       [ 4.5, -4.5,  0. ],\n",
      "       [-4.5, -3.5,  0. ],\n",
      "       [-3.5, -3.5,  0. ],\n",
      "       [-2.5, -3.5,  0. ],\n",
      "       [-1.5, -3.5,  0. ],\n",
      "       [-0.5, -3.5,  0. ],\n",
      "       [ 0.5, -3.5,  0. ],\n",
      "       [ 1.5, -3.5,  0. ],\n",
      "       [ 2.5, -3.5,  0. ],\n",
      "       [ 3.5, -3.5,  0. ],\n",
      "       [ 4.5, -3.5,  0. ],\n",
      "       [-4.5, -2.5,  0. ],\n",
      "       [-3.5, -2.5,  0. ],\n",
      "       [-2.5, -2.5,  0. ],\n",
      "       [-1.5, -2.5,  0. ],\n",
      "       [-0.5, -2.5,  0. ],\n",
      "       [ 0.5, -2.5,  0. ],\n",
      "       [ 1.5, -2.5,  0. ],\n",
      "       [ 2.5, -2.5,  0. ],\n",
      "       [ 3.5, -2.5,  0. ],\n",
      "       [ 4.5, -2.5,  0. ],\n",
      "       [-4.5, -1.5,  0. ],\n",
      "       [-3.5, -1.5,  0. ],\n",
      "       [-2.5, -1.5,  0. ],\n",
      "       [-1.5, -1.5,  0. ],\n",
      "       [-0.5, -1.5,  0. ],\n",
      "       [ 0.5, -1.5,  0. ],\n",
      "       [ 1.5, -1.5,  0. ],\n",
      "       [ 2.5, -1.5,  0. ],\n",
      "       [ 3.5, -1.5,  0. ],\n",
      "       [ 4.5, -1.5,  0. ],\n",
      "       [-4.5, -0.5,  0. ],\n",
      "       [-3.5, -0.5,  0. ],\n",
      "       [-2.5, -0.5,  0. ],\n",
      "       [-1.5, -0.5,  0. ],\n",
      "       [-0.5, -0.5,  0. ],\n",
      "       [ 0.5, -0.5,  0. ],\n",
      "       [ 1.5, -0.5,  0. ],\n",
      "       [ 2.5, -0.5,  0. ],\n",
      "       [ 3.5, -0.5,  0. ],\n",
      "       [ 4.5, -0.5,  0. ],\n",
      "       [-4.5,  0.5,  0. ],\n",
      "       [-3.5,  0.5,  0. ],\n",
      "       [-2.5,  0.5,  0. ],\n",
      "       [-1.5,  0.5,  0. ],\n",
      "       [-0.5,  0.5,  0. ],\n",
      "       [ 0.5,  0.5,  0. ],\n",
      "       [ 1.5,  0.5,  0. ],\n",
      "       [ 2.5,  0.5,  0. ],\n",
      "       [ 3.5,  0.5,  0. ],\n",
      "       [ 4.5,  0.5,  0. ],\n",
      "       [-4.5,  1.5,  0. ],\n",
      "       [-3.5,  1.5,  0. ],\n",
      "       [-2.5,  1.5,  0. ],\n",
      "       [-1.5,  1.5,  0. ],\n",
      "       [-0.5,  1.5,  0. ],\n",
      "       [ 0.5,  1.5,  0. ],\n",
      "       [ 1.5,  1.5,  0. ],\n",
      "       [ 2.5,  1.5,  0. ],\n",
      "       [ 3.5,  1.5,  0. ],\n",
      "       [ 4.5,  1.5,  0. ],\n",
      "       [-4.5,  2.5,  0. ],\n",
      "       [-3.5,  2.5,  0. ],\n",
      "       [-2.5,  2.5,  0. ],\n",
      "       [-1.5,  2.5,  0. ],\n",
      "       [-0.5,  2.5,  0. ],\n",
      "       [ 0.5,  2.5,  0. ],\n",
      "       [ 1.5,  2.5,  0. ],\n",
      "       [ 2.5,  2.5,  0. ],\n",
      "       [ 3.5,  2.5,  0. ],\n",
      "       [ 4.5,  2.5,  0. ],\n",
      "       [-4.5,  3.5,  0. ],\n",
      "       [-3.5,  3.5,  0. ],\n",
      "       [-2.5,  3.5,  0. ],\n",
      "       [-1.5,  3.5,  0. ],\n",
      "       [-0.5,  3.5,  0. ],\n",
      "       [ 0.5,  3.5,  0. ],\n",
      "       [ 1.5,  3.5,  0. ],\n",
      "       [ 2.5,  3.5,  0. ],\n",
      "       [ 3.5,  3.5,  0. ],\n",
      "       [ 4.5,  3.5,  0. ],\n",
      "       [-4.5,  4.5,  0. ],\n",
      "       [-3.5,  4.5,  0. ],\n",
      "       [-2.5,  4.5,  0. ],\n",
      "       [-1.5,  4.5,  0. ],\n",
      "       [-0.5,  4.5,  0. ],\n",
      "       [ 0.5,  4.5,  0. ],\n",
      "       [ 1.5,  4.5,  0. ],\n",
      "       [ 2.5,  4.5,  0. ],\n",
      "       [ 3.5,  4.5,  0. ],\n",
      "       [ 4.5,  4.5,  0. ]]), 'filterKeys': array([], dtype=float64), 'colormapKeys': array([], dtype=float64), 'doSPHrad': [False]}}, 'options': {'title': 'Firefly', 'loaded': True, 'UI': True, 'UIfullscreen': True, 'UIsnapshot': True, 'UIreset': True, 'UIsavePreset': True, 'UIloadNewData': True, 'UIcameraControls': True, 'UIdecimation': True, 'UIparticle': {'part1': True}, 'UIdropdown': {'part1': True}, 'UIcolorPicker': {'part1': True}, 'center': array([0., 0., 0.]), 'camera': None, 'cameraRotation': None, 'maxVrange': 2000.0, 'startFly': False, 'friction': None, 'stereo': False, 'stereoSep': None, 'decimate': None, 'plotNmax': {'part1': None}, 'showVel': {'part1': False}, 'velType': {'part1': None}, 'color': {'part1': [1, 1, 0, 1]}, 'sizeMult': {'part1': 10}, 'showParts': {'part1': True}, 'filterVals': {'part1': {}}, 'filterLims': {'part1': {}}, 'colormapVals': {'part1': {}}, 'colormapLims': {'part1': {}}, 'colormap': {'part1': 0.015625}, 'colormapVariable': {'part1': 0}, 'showColormap': {'part1': False}}}\n",
      "(100, 3)\n"
     ]
    },
    {
     "data": {
      "text/plain": [
       "<Response [200]>"
      ]
     },
     "execution_count": 6,
     "metadata": {},
     "output_type": "execute_result"
    }
   ],
   "source": [
    "## Here I'll create a grid of points in the shape of a square 10,10, separated by 1.  \n",
    "## I want a point size of 0.5 to have these points touching. \n",
    "## The default has a point size of ~100 touching \n",
    "# It looks like I need a factor of ~70.5 in the sizes of particles for this to work as desired.\n",
    "\n",
    "my_coords = np.linspace(-4.5,4.5,10)\n",
    "sizeMult = 10\n",
    "\n",
    "# my_coords = np.linspace(-0.45,0.45,10)\n",
    "# sizeMult = 1\n",
    "\n",
    "#xs,ys,zs = np.meshgrid(my_coords,my_coords,my_coords)\n",
    "xs,ys,zs = np.meshgrid(my_coords,my_coords,0)\n",
    "xs,ys,zs = xs.flatten(),ys.flatten(),zs.flatten()\n",
    "coords = np.array([xs,ys,zs]).T\n",
    "print(coords.shape)\n",
    "\n",
    "\n",
    "## colors should be RGBA lists\n",
    "color = [1,1,0,1]\n",
    "\n",
    "## choose some name\n",
    "name = 'part1'\n",
    "\n",
    "outDict = simpleReader(name, coords, color, sizeMult)\n",
    "print(outDict)\n",
    "print(outDict['parts'][name]['Coordinates'].shape)\n",
    "\n",
    "s = pd.Series(outDict).to_json()\n",
    "requests.post(\"http://localhost:5000/data_input\", json=s)"
   ]
  },
  {
   "cell_type": "markdown",
   "metadata": {},
   "source": [
    "*To kill the Firefly server.*"
   ]
  },
  {
   "cell_type": "code",
   "execution_count": 5,
   "metadata": {},
   "outputs": [],
   "source": [
    "# uncomment the next line\n",
    "#! ps aux | grep Firefly | awk '{print $2}' | xargs kill\n"
   ]
  },
  {
   "cell_type": "code",
   "execution_count": null,
   "metadata": {},
   "outputs": [],
   "source": []
  }
 ],
 "metadata": {
  "anaconda-cloud": {},
  "kernelspec": {
   "display_name": "Python 3",
   "language": "python",
   "name": "python3"
  },
  "language_info": {
   "codemirror_mode": {
    "name": "ipython",
    "version": 3
   },
   "file_extension": ".py",
   "mimetype": "text/x-python",
   "name": "python",
   "nbconvert_exporter": "python",
   "pygments_lexer": "ipython3",
   "version": "3.9.5"
  }
 },
 "nbformat": 4,
 "nbformat_minor": 4
}
